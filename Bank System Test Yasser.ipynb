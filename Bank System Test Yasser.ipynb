{
 "cells": [
  {
   "cell_type": "code",
   "execution_count": null,
   "id": "08032999",
   "metadata": {},
   "outputs": [],
   "source": [
    "class Customer:\n",
    "    def _init_(self, name, loan, salary):\n",
    "        self.name = name\n",
    "        self.loan = loan\n",
    "        self.salary = salary\n",
    "        self.account_balance = 0\n",
    "\n",
    "    def deposit(self, amount):\n",
    "        self.account_balance += amount\n",
    "\n",
    "    def withdraw(self, amount):\n",
    "        if self.account_balance >= amount:\n",
    "            self.account_balance -= amount\n",
    "            return amount\n",
    "        else:\n",
    "            return \"Insufficient funds\"\n",
    "\n",
    "    def get_account_balance(self):\n",
    "        return self.account_balance\n",
    "\n",
    "\n",
    "class Employee:\n",
    "    def _init_(self, name, salary, position):\n",
    "        self.name = name\n",
    "        self.salary = salary\n",
    "        self.position = position\n",
    "\n",
    "\n",
    "def create_employee():\n",
    "    name = input(\"Enter employee name: \")\n",
    "    salary = float(input(\"Enter employee salary: \"))\n",
    "    position = input(\"Enter employee position: \")\n",
    "    return Employee(name, salary, position)\n",
    "\n",
    "\n",
    "def create_customer():\n",
    "    name = input(\"Enter customer name: \")\n",
    "    loan = float(input(\"Enter customer loan amount: \"))\n",
    "    salary = float(input(\"Enter customer salary: \"))\n",
    "    return Customer(name, loan, salary)\n",
    "\n",
    "\n",
    "# Example usage:\n",
    "employee1 = create_employee()\n",
    "print(\"Employee Information:\")\n",
    "print(\"Name:\", employee1.name)\n",
    "print(\"Salary:\", employee1.salary)\n",
    "print(\"Position:\", employee1.position)\n",
    "\n",
    "customer1 = create_customer()\n",
    "print(\"Customer Information:\")\n",
    "print(\"Name:\", customer1.name)\n",
    "print(\"Loan:\", customer1.loan)\n",
    "print(\"Salary:\", customer1.salary)"
   ]
  },
  {
   "cell_type": "code",
   "execution_count": null,
   "id": "aabe6ad2",
   "metadata": {},
   "outputs": [],
   "source": []
  }
 ],
 "metadata": {
  "kernelspec": {
   "display_name": "Python 3 (ipykernel)",
   "language": "python",
   "name": "python3"
  },
  "language_info": {
   "codemirror_mode": {
    "name": "ipython",
    "version": 3
   },
   "file_extension": ".py",
   "mimetype": "text/x-python",
   "name": "python",
   "nbconvert_exporter": "python",
   "pygments_lexer": "ipython3",
   "version": "3.11.4"
  }
 },
 "nbformat": 4,
 "nbformat_minor": 5
}
